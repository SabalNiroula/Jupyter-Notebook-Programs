{
 "cells": [
  {
   "cell_type": "code",
   "execution_count": 24,
   "id": "6c8aa2c6",
   "metadata": {},
   "outputs": [],
   "source": [
    "import pandas as pd\n",
    "import requests\n",
    "from bs4 import BeautifulSoup #web scraping library\n"
   ]
  },
  {
   "cell_type": "code",
   "execution_count": 31,
   "id": "a4e85a5d",
   "metadata": {},
   "outputs": [],
   "source": [
    "# requests.get('http://www.business-yellowpages.com/nepal/page-91')\n",
    "#here if the response code is not 200 instead is 403 then you can do the following things\n",
    "headers = {'User-Agent': 'Mozilla/5.0 (Macintosh; Intel Mac OS X 10_15_7) AppleWebKit/537.36 (KHTML, like Gecko) Chrome/101.0.4951.64 Safari/537.36 Edg/101.0.1210.53'}\n",
    "webpage = requests.get('https://www.careerone.com.au/data-scientist-jobs-in-information-technology/in-australia', headers = headers)"
   ]
  },
  {
   "cell_type": "code",
   "execution_count": 32,
   "id": "06762ffe",
   "metadata": {},
   "outputs": [],
   "source": [
    "soup = BeautifulSoup(webpage.text) # entire webpage is sent \n"
   ]
  },
  {
   "cell_type": "code",
   "execution_count": 35,
   "id": "76678059",
   "metadata": {},
   "outputs": [
    {
     "data": {
      "text/plain": [
       "[<a class=\"text-body-1 mobile-menu-item__link text-dark-500\" data-v-5ae04b00=\"\" href=\"https://www.careerone.com.au/career-advice/\" target=\"_blank\" title=\"Career advice\">\n",
       "                 Career advice\n",
       "             </a>,\n",
       " <a class=\"text-body-1 mobile-menu-item__link text-dark-500\" data-v-5ae04b00=\"\" href=\"https://hiring.careerone.com.au\" target=\"_blank\" title=\"Hiring site\">\n",
       "                 Hiring site\n",
       "             </a>,\n",
       " <a class=\"btn w-100 mb-3 btn-theme-outline-light btn-xl\" data-v-5ae04b00=\"\" href=\"/auth?redirect=%2Fdata-scientist-jobs-in-information-technology%2Fin-australia\" target=\"_self\">\n",
       "         Login\n",
       "     </a>,\n",
       " <a class=\"btn w-100 btn-theme-primary btn-xl\" data-v-5ae04b00=\"\" href=\"/auth?redirect=%2Fdata-scientist-jobs-in-information-technology%2Fin-australia\" target=\"_self\">\n",
       "         Sign up\n",
       "     </a>,\n",
       " <a class=\"header-nav__career\" data-v-1c21d5f4=\"\" href=\"/\"><img alt=\"CareerOne\" class=\"header-logo-image d-block\" data-v-1c21d5f4=\"\" src=\"https://content.careeronecdn.com.au/media/careerone.svg\"/></a>,\n",
       " <a class=\"text-body-3\" data-v-031e74fe=\"\" href=\"https://www.careerone.com.au/career-advice/\" target=\"_blank\" title=\"Career advice\">\n",
       "                     Career advice\n",
       "                 </a>,\n",
       " <a class=\"text-body-3\" data-v-031e74fe=\"\" href=\"https://hiring.careerone.com.au/\" target=\"_blank\" title=\"go to hiring site\">\n",
       "                     Hiring site\n",
       "                 </a>,\n",
       " <a class=\"text-title-3\" data-v-031e74fe=\"\" href=\"#\" title=\"Login\">\n",
       "                     Login\n",
       "                 </a>,\n",
       " <a class=\"text-title-3\" data-v-031e74fe=\"\" href=\"#\" title=\"sign up\">\n",
       "                     Sign up\n",
       "                 </a>,\n",
       " <a class=\"text-body-4 text-light-600\" data-v-cf32abfa=\"\" href=\"https://resumewriting.careerone.com.au\">Resume Tips\n",
       "                                     </a>,\n",
       " <a class=\"text-body-4 text-light-600\" data-v-cf32abfa=\"\" href=\"https://www.careerone.com.au/career-advice/\">Career Advice\n",
       "                                     </a>,\n",
       " <a class=\"text-body-4 text-light-600\" data-v-cf32abfa=\"\" href=\"https://www.careerone.com.au/jobs\">Search Jobs\n",
       "                                     </a>,\n",
       " <a class=\"text-body-4 text-light-600\" data-v-cf32abfa=\"\" href=\"https://www.careerone.com.au/jobs/br_careerone\">Working at CareerOne\n",
       "                                     </a>,\n",
       " <a class=\"text-body-4 text-light-600\" data-v-cf32abfa=\"\" href=\"https://hiring.careerone.com.au\">Post Jobs\n",
       "                                             </a>,\n",
       " <a class=\"text-body-4 text-light-600\" data-v-cf32abfa=\"\" href=\"https://hiring.careerone.com.au/hiring-advice/\">Hiring Advice\n",
       "                                             </a>,\n",
       " <a class=\"text-body-4 text-light-600\" data-v-cf32abfa=\"\" href=\"https://www.careerone.com.au/contact-us\">Contact Us\n",
       "                                             </a>,\n",
       " <a class=\"text-body-4 text-light-600\" data-v-cf32abfa=\"\" href=\"https://www.careerone.com.au/privacy\">Privacy Policy\n",
       "                                             </a>,\n",
       " <a class=\"text-body-4 text-light-600\" data-v-cf32abfa=\"\" href=\"https://www.careerone.com.au/terms\">Terms of Use\n",
       "                                             </a>,\n",
       " <a data-v-cf32abfa=\"\" href=\"http://www.facebook.com/CareerOne\" target=\"_blank\"><svg aria-hidden=\"true\" class=\"svg-inline--fa fa-facebook-f\" data-icon=\"facebook-f\" data-prefix=\"fab\" data-v-cf32abfa=\"\" focusable=\"false\" role=\"img\" viewbox=\"0 0 320 512\" xmlns=\"http://www.w3.org/2000/svg\"><path d=\"M279.1 288l14.22-92.66h-88.91v-60.13c0-25.35 12.42-50.06 52.24-50.06h40.42V6.26S260.4 0 225.4 0c-73.22 0-121.1 44.38-121.1 124.7v70.62H22.89V288h81.39v224h100.2V288z\" data-v-cf32abfa=\"\" fill=\"currentColor\"></path></svg></a>,\n",
       " <a data-v-cf32abfa=\"\" href=\"https://twitter.com/CareerOne\" target=\"_blank\"><svg aria-hidden=\"true\" class=\"svg-inline--fa fa-twitter\" data-icon=\"twitter\" data-prefix=\"fab\" data-v-cf32abfa=\"\" focusable=\"false\" role=\"img\" viewbox=\"0 0 512 512\" xmlns=\"http://www.w3.org/2000/svg\"><path d=\"M459.4 151.7c.325 4.548 .325 9.097 .325 13.65 0 138.7-105.6 298.6-298.6 298.6-59.45 0-114.7-17.22-161.1-47.11 8.447 .974 16.57 1.299 25.34 1.299 49.06 0 94.21-16.57 130.3-44.83-46.13-.975-84.79-31.19-98.11-72.77 6.498 .974 12.99 1.624 19.82 1.624 9.421 0 18.84-1.3 27.61-3.573-48.08-9.747-84.14-51.98-84.14-102.1v-1.299c13.97 7.797 30.21 12.67 47.43 13.32-28.26-18.84-46.78-51.01-46.78-87.39 0-19.49 5.197-37.36 14.29-52.95 51.65 63.67 129.3 105.3 216.4 109.8-1.624-7.797-2.599-15.92-2.599-24.04 0-57.83 46.78-104.9 104.9-104.9 30.21 0 57.5 12.67 76.67 33.14 23.72-4.548 46.46-13.32 66.6-25.34-7.798 24.37-24.37 44.83-46.13 57.83 21.12-2.273 41.58-8.122 60.43-16.24-14.29 20.79-32.16 39.31-52.63 54.25z\" data-v-cf32abfa=\"\" fill=\"currentColor\"></path></svg></a>,\n",
       " <a data-v-cf32abfa=\"\" href=\"https://www.instagram.com/careeroneau/\" target=\"_blank\"><svg aria-hidden=\"true\" class=\"svg-inline--fa fa-instagram\" data-icon=\"instagram\" data-prefix=\"fab\" data-v-cf32abfa=\"\" focusable=\"false\" role=\"img\" viewbox=\"0 0 448 512\" xmlns=\"http://www.w3.org/2000/svg\"><path d=\"M224.1 141c-63.6 0-114.9 51.3-114.9 114.9s51.3 114.9 114.9 114.9S339 319.5 339 255.9 287.7 141 224.1 141zm0 189.6c-41.1 0-74.7-33.5-74.7-74.7s33.5-74.7 74.7-74.7 74.7 33.5 74.7 74.7-33.6 74.7-74.7 74.7zm146.4-194.3c0 14.9-12 26.8-26.8 26.8-14.9 0-26.8-12-26.8-26.8s12-26.8 26.8-26.8 26.8 12 26.8 26.8zm76.1 27.2c-1.7-35.9-9.9-67.7-36.2-93.9-26.2-26.2-58-34.4-93.9-36.2-37-2.1-147.9-2.1-184.9 0-35.8 1.7-67.6 9.9-93.9 36.1s-34.4 58-36.2 93.9c-2.1 37-2.1 147.9 0 184.9 1.7 35.9 9.9 67.7 36.2 93.9s58 34.4 93.9 36.2c37 2.1 147.9 2.1 184.9 0 35.9-1.7 67.7-9.9 93.9-36.2 26.2-26.2 34.4-58 36.2-93.9 2.1-37 2.1-147.8 0-184.8zM398.8 388c-7.8 19.6-22.9 34.7-42.6 42.6-29.5 11.7-99.5 9-132.1 9s-102.7 2.6-132.1-9c-19.6-7.8-34.7-22.9-42.6-42.6-11.7-29.5-9-99.5-9-132.1s-2.6-102.7 9-132.1c7.8-19.6 22.9-34.7 42.6-42.6 29.5-11.7 99.5-9 132.1-9s102.7-2.6 132.1 9c19.6 7.8 34.7 22.9 42.6 42.6 11.7 29.5 9 99.5 9 132.1s2.7 102.7-9 132.1z\" data-v-cf32abfa=\"\" fill=\"currentColor\"></path></svg></a>,\n",
       " <a data-v-cf32abfa=\"\" href=\"https://www.linkedin.com/company/1003270\" target=\"_blank\"><svg aria-hidden=\"true\" class=\"svg-inline--fa fa-linkedin-in\" data-icon=\"linkedin-in\" data-prefix=\"fab\" data-v-cf32abfa=\"\" focusable=\"false\" role=\"img\" viewbox=\"0 0 448 512\" xmlns=\"http://www.w3.org/2000/svg\"><path d=\"M100.3 448H7.4V148.9h92.88zM53.79 108.1C24.09 108.1 0 83.5 0 53.8a53.79 53.79 0 0 1 107.6 0c0 29.7-24.1 54.3-53.79 54.3zM447.9 448h-92.68V302.4c0-34.7-.7-79.2-48.29-79.2-48.29 0-55.69 37.7-55.69 76.7V448h-92.78V148.9h89.08v40.8h1.3c12.4-23.5 42.69-48.3 87.88-48.3 94 0 111.3 61.9 111.3 142.3V448z\" data-v-cf32abfa=\"\" fill=\"currentColor\"></path></svg></a>,\n",
       " <a data-v-cf32abfa=\"\" href=\"http://www.youtube.com/user/CareerOneJobs\" target=\"_blank\"><svg aria-hidden=\"true\" class=\"svg-inline--fa fa-youtube\" data-icon=\"youtube\" data-prefix=\"fab\" data-v-cf32abfa=\"\" focusable=\"false\" role=\"img\" viewbox=\"0 0 576 512\" xmlns=\"http://www.w3.org/2000/svg\"><path d=\"M549.7 124.1c-6.281-23.65-24.79-42.28-48.28-48.6C458.8 64 288 64 288 64S117.2 64 74.63 75.49c-23.5 6.322-42 24.95-48.28 48.6-11.41 42.87-11.41 132.3-11.41 132.3s0 89.44 11.41 132.3c6.281 23.65 24.79 41.5 48.28 47.82C117.2 448 288 448 288 448s170.8 0 213.4-11.49c23.5-6.321 42-24.17 48.28-47.82 11.41-42.87 11.41-132.3 11.41-132.3s0-89.44-11.41-132.3zm-317.5 213.5V175.2l142.7 81.21-142.7 81.2z\" data-v-cf32abfa=\"\" fill=\"currentColor\"></path></svg></a>]"
      ]
     },
     "execution_count": 35,
     "metadata": {},
     "output_type": "execute_result"
    }
   ],
   "source": [
    "# for i in soup.find_all('h1'):\n",
    "# soup\n",
    "(soup.find_all('a'))"
   ]
  },
  {
   "cell_type": "code",
   "execution_count": null,
   "id": "3a57626a",
   "metadata": {},
   "outputs": [],
   "source": []
  }
 ],
 "metadata": {
  "kernelspec": {
   "display_name": "Python 3 (ipykernel)",
   "language": "python",
   "name": "python3"
  },
  "language_info": {
   "codemirror_mode": {
    "name": "ipython",
    "version": 3
   },
   "file_extension": ".py",
   "mimetype": "text/x-python",
   "name": "python",
   "nbconvert_exporter": "python",
   "pygments_lexer": "ipython3",
   "version": "3.9.13"
  }
 },
 "nbformat": 4,
 "nbformat_minor": 5
}
